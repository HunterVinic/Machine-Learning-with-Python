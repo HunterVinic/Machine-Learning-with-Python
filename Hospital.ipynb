{
 "cells": [
  {
   "cell_type": "code",
   "execution_count": 1,
   "id": "37364992",
   "metadata": {
    "_cell_guid": "b1076dfc-b9ad-4769-8c92-a6c4dae69d19",
    "_uuid": "8f2839f25d086af736a60e9eeb907d3b93b6e0e5",
    "execution": {
     "iopub.execute_input": "2023-06-15T07:16:01.444865Z",
     "iopub.status.busy": "2023-06-15T07:16:01.443995Z",
     "iopub.status.idle": "2023-06-15T07:16:03.013111Z",
     "shell.execute_reply": "2023-06-15T07:16:03.011806Z"
    },
    "papermill": {
     "duration": 1.579785,
     "end_time": "2023-06-15T07:16:03.016281",
     "exception": false,
     "start_time": "2023-06-15T07:16:01.436496",
     "status": "completed"
    },
    "tags": []
   },
   "outputs": [],
   "source": [
    "import numpy as np\n",
    "import pandas as pd\n",
    "import matplotlib.pyplot as plt\n",
    "import seaborn as sns"
   ]
  },
  {
   "cell_type": "code",
   "execution_count": 2,
   "id": "fdde669d",
   "metadata": {
    "execution": {
     "iopub.execute_input": "2023-06-15T07:16:03.029017Z",
     "iopub.status.busy": "2023-06-15T07:16:03.028600Z",
     "iopub.status.idle": "2023-06-15T07:16:03.168396Z",
     "shell.execute_reply": "2023-06-15T07:16:03.166981Z"
    },
    "papermill": {
     "duration": 0.149674,
     "end_time": "2023-06-15T07:16:03.171481",
     "exception": false,
     "start_time": "2023-06-15T07:16:03.021807",
     "status": "completed"
    },
    "tags": []
   },
   "outputs": [],
   "source": [
    "hospital = pd.read_csv(\"/kaggle/input/hospital/South Building.csv\", delimiter= ',')"
   ]
  },
  {
   "cell_type": "code",
   "execution_count": 3,
   "id": "a4b03361",
   "metadata": {
    "execution": {
     "iopub.execute_input": "2023-06-15T07:16:03.184108Z",
     "iopub.status.busy": "2023-06-15T07:16:03.183704Z",
     "iopub.status.idle": "2023-06-15T07:16:03.214294Z",
     "shell.execute_reply": "2023-06-15T07:16:03.213246Z"
    },
    "papermill": {
     "duration": 0.040332,
     "end_time": "2023-06-15T07:16:03.217169",
     "exception": false,
     "start_time": "2023-06-15T07:16:03.176837",
     "status": "completed"
    },
    "tags": []
   },
   "outputs": [
    {
     "data": {
      "text/html": [
       "<div>\n",
       "<style scoped>\n",
       "    .dataframe tbody tr th:only-of-type {\n",
       "        vertical-align: middle;\n",
       "    }\n",
       "\n",
       "    .dataframe tbody tr th {\n",
       "        vertical-align: top;\n",
       "    }\n",
       "\n",
       "    .dataframe thead th {\n",
       "        text-align: right;\n",
       "    }\n",
       "</style>\n",
       "<table border=\"1\" class=\"dataframe\">\n",
       "  <thead>\n",
       "    <tr style=\"text-align: right;\">\n",
       "      <th></th>\n",
       "      <th>File Name/ Floor No</th>\n",
       "      <th>Excel IOT sensor file</th>\n",
       "      <th>Vichayut Presentation</th>\n",
       "      <th>Comparison</th>\n",
       "    </tr>\n",
       "  </thead>\n",
       "  <tbody>\n",
       "    <tr>\n",
       "      <th>0</th>\n",
       "      <td>NaN</td>\n",
       "      <td>NaN</td>\n",
       "      <td>(Floor Plan) Page no: 30-63</td>\n",
       "      <td>Result</td>\n",
       "    </tr>\n",
       "    <tr>\n",
       "      <th>1</th>\n",
       "      <td>23</td>\n",
       "      <td>2-IQA 3 in 1 sensor</td>\n",
       "      <td>2-IQA 3 in 1 sensor</td>\n",
       "      <td>InCorrect</td>\n",
       "    </tr>\n",
       "    <tr>\n",
       "      <th>2</th>\n",
       "      <td>NaN</td>\n",
       "      <td>2-Level sensor</td>\n",
       "      <td>2-Level sensor</td>\n",
       "      <td>NaN</td>\n",
       "    </tr>\n",
       "    <tr>\n",
       "      <th>3</th>\n",
       "      <td>NaN</td>\n",
       "      <td>1-Total energy Meter</td>\n",
       "      <td>NaN</td>\n",
       "      <td>NaN</td>\n",
       "    </tr>\n",
       "    <tr>\n",
       "      <th>4</th>\n",
       "      <td>NaN</td>\n",
       "      <td>2-Flood Sensor</td>\n",
       "      <td>NaN</td>\n",
       "      <td>NaN</td>\n",
       "    </tr>\n",
       "    <tr>\n",
       "      <th>5</th>\n",
       "      <td>D</td>\n",
       "      <td>2- Level Sensor</td>\n",
       "      <td>Null</td>\n",
       "      <td>Incorrect</td>\n",
       "    </tr>\n",
       "    <tr>\n",
       "      <th>6</th>\n",
       "      <td>NaN</td>\n",
       "      <td>2-Flood Sensor</td>\n",
       "      <td>NaN</td>\n",
       "      <td>NaN</td>\n",
       "    </tr>\n",
       "    <tr>\n",
       "      <th>7</th>\n",
       "      <td>22</td>\n",
       "      <td>Null</td>\n",
       "      <td>Null</td>\n",
       "      <td>Correct</td>\n",
       "    </tr>\n",
       "    <tr>\n",
       "      <th>8</th>\n",
       "      <td>21</td>\n",
       "      <td>1-IQA 10 in 1 sensor</td>\n",
       "      <td>**Image Not Clear**</td>\n",
       "      <td>Undecided</td>\n",
       "    </tr>\n",
       "    <tr>\n",
       "      <th>9</th>\n",
       "      <td>20</td>\n",
       "      <td>1-IQA 10 in 1 sensor</td>\n",
       "      <td>1-IQA 10 in 1 sensor</td>\n",
       "      <td>Correct</td>\n",
       "    </tr>\n",
       "  </tbody>\n",
       "</table>\n",
       "</div>"
      ],
      "text/plain": [
       "  File Name/ Floor No Excel IOT sensor file        Vichayut Presentation  \\\n",
       "0                 NaN                   NaN  (Floor Plan) Page no: 30-63   \n",
       "1                  23   2-IQA 3 in 1 sensor          2-IQA 3 in 1 sensor   \n",
       "2                 NaN        2-Level sensor               2-Level sensor   \n",
       "3                 NaN  1-Total energy Meter                          NaN   \n",
       "4                 NaN        2-Flood Sensor                          NaN   \n",
       "5                   D       2- Level Sensor                         Null   \n",
       "6                 NaN        2-Flood Sensor                          NaN   \n",
       "7                  22                  Null                         Null   \n",
       "8                  21  1-IQA 10 in 1 sensor          **Image Not Clear**   \n",
       "9                  20  1-IQA 10 in 1 sensor         1-IQA 10 in 1 sensor   \n",
       "\n",
       "  Comparison  \n",
       "0     Result  \n",
       "1  InCorrect  \n",
       "2        NaN  \n",
       "3        NaN  \n",
       "4        NaN  \n",
       "5  Incorrect  \n",
       "6        NaN  \n",
       "7    Correct  \n",
       "8  Undecided  \n",
       "9    Correct  "
      ]
     },
     "execution_count": 3,
     "metadata": {},
     "output_type": "execute_result"
    }
   ],
   "source": [
    "hospital.head(10)"
   ]
  },
  {
   "cell_type": "code",
   "execution_count": 4,
   "id": "4a21efb6",
   "metadata": {
    "execution": {
     "iopub.execute_input": "2023-06-15T07:16:03.229958Z",
     "iopub.status.busy": "2023-06-15T07:16:03.229565Z",
     "iopub.status.idle": "2023-06-15T07:16:03.249180Z",
     "shell.execute_reply": "2023-06-15T07:16:03.248277Z"
    },
    "papermill": {
     "duration": 0.02897,
     "end_time": "2023-06-15T07:16:03.251733",
     "exception": false,
     "start_time": "2023-06-15T07:16:03.222763",
     "status": "completed"
    },
    "tags": []
   },
   "outputs": [
    {
     "data": {
      "text/html": [
       "<div>\n",
       "<style scoped>\n",
       "    .dataframe tbody tr th:only-of-type {\n",
       "        vertical-align: middle;\n",
       "    }\n",
       "\n",
       "    .dataframe tbody tr th {\n",
       "        vertical-align: top;\n",
       "    }\n",
       "\n",
       "    .dataframe thead th {\n",
       "        text-align: right;\n",
       "    }\n",
       "</style>\n",
       "<table border=\"1\" class=\"dataframe\">\n",
       "  <thead>\n",
       "    <tr style=\"text-align: right;\">\n",
       "      <th></th>\n",
       "      <th>File Name/ Floor No</th>\n",
       "      <th>Excel IOT sensor file</th>\n",
       "      <th>Vichayut Presentation</th>\n",
       "      <th>Comparison</th>\n",
       "    </tr>\n",
       "  </thead>\n",
       "  <tbody>\n",
       "    <tr>\n",
       "      <th>1</th>\n",
       "      <td>23</td>\n",
       "      <td>2-IQA 3 in 1 sensor</td>\n",
       "      <td>2-IQA 3 in 1 sensor</td>\n",
       "      <td>InCorrect</td>\n",
       "    </tr>\n",
       "    <tr>\n",
       "      <th>32</th>\n",
       "      <td>6</td>\n",
       "      <td>2-IQA 3 in 1 sensor</td>\n",
       "      <td>2-IQA 3 in 1 sensor</td>\n",
       "      <td>Incorrect</td>\n",
       "    </tr>\n",
       "    <tr>\n",
       "      <th>38</th>\n",
       "      <td>1</td>\n",
       "      <td>2-IQA 3 in 1 sensor</td>\n",
       "      <td>1-IQA 10 in 1 sensor</td>\n",
       "      <td>Incorrect</td>\n",
       "    </tr>\n",
       "  </tbody>\n",
       "</table>\n",
       "</div>"
      ],
      "text/plain": [
       "   File Name/ Floor No Excel IOT sensor file Vichayut Presentation Comparison\n",
       "1                   23   2-IQA 3 in 1 sensor   2-IQA 3 in 1 sensor  InCorrect\n",
       "32                   6   2-IQA 3 in 1 sensor   2-IQA 3 in 1 sensor  Incorrect\n",
       "38                   1   2-IQA 3 in 1 sensor  1-IQA 10 in 1 sensor  Incorrect"
      ]
     },
     "execution_count": 4,
     "metadata": {},
     "output_type": "execute_result"
    }
   ],
   "source": [
    "class_1 = hospital[hospital[\"Excel IOT sensor file\"].isin(['2-IQA 3 in 1 sensor'])]\n",
    "class_1.head()"
   ]
  },
  {
   "cell_type": "code",
   "execution_count": 5,
   "id": "bd9ebb03",
   "metadata": {
    "execution": {
     "iopub.execute_input": "2023-06-15T07:16:03.265158Z",
     "iopub.status.busy": "2023-06-15T07:16:03.264731Z",
     "iopub.status.idle": "2023-06-15T07:16:03.276664Z",
     "shell.execute_reply": "2023-06-15T07:16:03.275625Z"
    },
    "papermill": {
     "duration": 0.021403,
     "end_time": "2023-06-15T07:16:03.278951",
     "exception": false,
     "start_time": "2023-06-15T07:16:03.257548",
     "status": "completed"
    },
    "tags": []
   },
   "outputs": [
    {
     "data": {
      "text/html": [
       "<div>\n",
       "<style scoped>\n",
       "    .dataframe tbody tr th:only-of-type {\n",
       "        vertical-align: middle;\n",
       "    }\n",
       "\n",
       "    .dataframe tbody tr th {\n",
       "        vertical-align: top;\n",
       "    }\n",
       "\n",
       "    .dataframe thead th {\n",
       "        text-align: right;\n",
       "    }\n",
       "</style>\n",
       "<table border=\"1\" class=\"dataframe\">\n",
       "  <thead>\n",
       "    <tr style=\"text-align: right;\">\n",
       "      <th></th>\n",
       "      <th>File Name/ Floor No</th>\n",
       "      <th>Excel IOT sensor file</th>\n",
       "      <th>Vichayut Presentation</th>\n",
       "      <th>Comparison</th>\n",
       "    </tr>\n",
       "  </thead>\n",
       "  <tbody>\n",
       "    <tr>\n",
       "      <th>2</th>\n",
       "      <td>NaN</td>\n",
       "      <td>2-Level sensor</td>\n",
       "      <td>2-Level sensor</td>\n",
       "      <td>NaN</td>\n",
       "    </tr>\n",
       "  </tbody>\n",
       "</table>\n",
       "</div>"
      ],
      "text/plain": [
       "  File Name/ Floor No Excel IOT sensor file Vichayut Presentation Comparison\n",
       "2                 NaN        2-Level sensor        2-Level sensor        NaN"
      ]
     },
     "execution_count": 5,
     "metadata": {},
     "output_type": "execute_result"
    }
   ],
   "source": [
    "class_1 = hospital[hospital[\"Excel IOT sensor file\"].isin(['2-Level sensor'])]\n",
    "class_1.head()"
   ]
  },
  {
   "cell_type": "code",
   "execution_count": 6,
   "id": "18a2afca",
   "metadata": {
    "execution": {
     "iopub.execute_input": "2023-06-15T07:16:03.293210Z",
     "iopub.status.busy": "2023-06-15T07:16:03.292224Z",
     "iopub.status.idle": "2023-06-15T07:16:03.334234Z",
     "shell.execute_reply": "2023-06-15T07:16:03.333009Z"
    },
    "papermill": {
     "duration": 0.052212,
     "end_time": "2023-06-15T07:16:03.337109",
     "exception": false,
     "start_time": "2023-06-15T07:16:03.284897",
     "status": "completed"
    },
    "tags": []
   },
   "outputs": [],
   "source": [
    "df = pd.read_csv(\"/kaggle/input/hospital/South Building.csv\", delimiter= ',')"
   ]
  },
  {
   "cell_type": "code",
   "execution_count": 7,
   "id": "ce2cb03c",
   "metadata": {
    "execution": {
     "iopub.execute_input": "2023-06-15T07:16:03.352845Z",
     "iopub.status.busy": "2023-06-15T07:16:03.352390Z",
     "iopub.status.idle": "2023-06-15T07:16:03.357860Z",
     "shell.execute_reply": "2023-06-15T07:16:03.357025Z"
    },
    "papermill": {
     "duration": 0.016959,
     "end_time": "2023-06-15T07:16:03.360303",
     "exception": false,
     "start_time": "2023-06-15T07:16:03.343344",
     "status": "completed"
    },
    "tags": []
   },
   "outputs": [],
   "source": [
    "column1 = df['Excel IOT sensor file'].astype(str)\n",
    "column2 = df['Vichayut Presentation'].astype(str)"
   ]
  },
  {
   "cell_type": "code",
   "execution_count": 8,
   "id": "994e3684",
   "metadata": {
    "execution": {
     "iopub.execute_input": "2023-06-15T07:16:03.375124Z",
     "iopub.status.busy": "2023-06-15T07:16:03.374405Z",
     "iopub.status.idle": "2023-06-15T07:16:03.381026Z",
     "shell.execute_reply": "2023-06-15T07:16:03.380151Z"
    },
    "papermill": {
     "duration": 0.017236,
     "end_time": "2023-06-15T07:16:03.383622",
     "exception": false,
     "start_time": "2023-06-15T07:16:03.366386",
     "status": "completed"
    },
    "tags": []
   },
   "outputs": [],
   "source": [
    "differences = (column1 != column2).astype(int)"
   ]
  },
  {
   "cell_type": "code",
   "execution_count": 9,
   "id": "a8714b55",
   "metadata": {
    "execution": {
     "iopub.execute_input": "2023-06-15T07:16:03.398147Z",
     "iopub.status.busy": "2023-06-15T07:16:03.397502Z",
     "iopub.status.idle": "2023-06-15T07:16:03.402499Z",
     "shell.execute_reply": "2023-06-15T07:16:03.401603Z"
    },
    "papermill": {
     "duration": 0.015006,
     "end_time": "2023-06-15T07:16:03.404873",
     "exception": false,
     "start_time": "2023-06-15T07:16:03.389867",
     "status": "completed"
    },
    "tags": []
   },
   "outputs": [],
   "source": [
    "floor_differences = pd.DataFrame({'File Name/ Floor No': df['File Name/ Floor No'], 'Correctness': differences})\n",
    "\n",
    "    "
   ]
  },
  {
   "cell_type": "code",
   "execution_count": 10,
   "id": "86c410a8",
   "metadata": {
    "execution": {
     "iopub.execute_input": "2023-06-15T07:16:03.419524Z",
     "iopub.status.busy": "2023-06-15T07:16:03.418894Z",
     "iopub.status.idle": "2023-06-15T07:16:03.442829Z",
     "shell.execute_reply": "2023-06-15T07:16:03.441734Z"
    },
    "papermill": {
     "duration": 0.034303,
     "end_time": "2023-06-15T07:16:03.445590",
     "exception": false,
     "start_time": "2023-06-15T07:16:03.411287",
     "status": "completed"
    },
    "tags": []
   },
   "outputs": [],
   "source": [
    "grouped_data = floor_differences.groupby(['File Name/ Floor No', 'Correctness']).size().unstack(fill_value=0)\n",
    "\n"
   ]
  },
  {
   "cell_type": "code",
   "execution_count": 11,
   "id": "665fd3b2",
   "metadata": {
    "execution": {
     "iopub.execute_input": "2023-06-15T07:16:03.459564Z",
     "iopub.status.busy": "2023-06-15T07:16:03.458947Z",
     "iopub.status.idle": "2023-06-15T07:16:04.100533Z",
     "shell.execute_reply": "2023-06-15T07:16:04.099299Z"
    },
    "papermill": {
     "duration": 0.652096,
     "end_time": "2023-06-15T07:16:04.103636",
     "exception": false,
     "start_time": "2023-06-15T07:16:03.451540",
     "status": "completed"
    },
    "tags": []
   },
   "outputs": [
    {
     "data": {
      "text/plain": [
       "<Axes: xlabel='File Name/ Floor No'>"
      ]
     },
     "execution_count": 11,
     "metadata": {},
     "output_type": "execute_result"
    },
    {
     "data": {
      "image/png": "[encoded data removed]",
      "text/plain": [
       "<Figure size 640x480 with 1 Axes>"
      ]
     },
     "metadata": {},
     "output_type": "display_data"
    }
   ],
   "source": [
    "grouped_data.plot(kind='bar', stacked=True)"
   ]
  },
  {
   "cell_type": "code",
   "execution_count": 12,
   "id": "67fed24f",
   "metadata": {
    "execution": {
     "iopub.execute_input": "2023-06-15T07:16:04.118532Z",
     "iopub.status.busy": "2023-06-15T07:16:04.118146Z",
     "iopub.status.idle": "2023-06-15T07:16:04.389078Z",
     "shell.execute_reply": "2023-06-15T07:16:04.388103Z"
    },
    "papermill": {
     "duration": 0.282219,
     "end_time": "2023-06-15T07:16:04.392528",
     "exception": false,
     "start_time": "2023-06-15T07:16:04.110309",
     "status": "completed"
    },
    "tags": []
   },
   "outputs": [
    {
     "data": {
      "image/png": "[encoded data removed]",
      "text/plain": [
       "<Figure size 640x480 with 1 Axes>"
      ]
     },
     "metadata": {},
     "output_type": "display_data"
    }
   ],
   "source": [
    "plt.xlabel('Floor No')\n",
    "plt.ylabel('Count')\n",
    "plt.title('Correctness Comparison by Floor No')\n",
    "\n",
    "# Show the plot\n",
    "plt.show()"
   ]
  },
  {
   "cell_type": "code",
   "execution_count": 13,
   "id": "160c04bc",
   "metadata": {
    "execution": {
     "iopub.execute_input": "2023-06-15T07:16:04.408024Z",
     "iopub.status.busy": "2023-06-15T07:16:04.407497Z",
     "iopub.status.idle": "2023-06-15T07:16:04.673292Z",
     "shell.execute_reply": "2023-06-15T07:16:04.672119Z"
    },
    "papermill": {
     "duration": 0.276221,
     "end_time": "2023-06-15T07:16:04.675672",
     "exception": false,
     "start_time": "2023-06-15T07:16:04.399451",
     "status": "completed"
    },
    "tags": []
   },
   "outputs": [
    {
     "data": {
      "image/png": "[encoded data removed]",
      "text/plain": [
       "<Figure size 640x480 with 1 Axes>"
      ]
     },
     "metadata": {},
     "output_type": "display_data"
    }
   ],
   "source": [
    "plt.xlabel('Floor No')\n",
    "plt.ylabel('Count')\n",
    "plt.title('Correctness Comparison by Floor No')\n",
    "\n",
    "# Show the plot\n",
    "plt.show()"
   ]
  },
  {
   "cell_type": "code",
   "execution_count": null,
   "id": "305fe2c1",
   "metadata": {
    "papermill": {
     "duration": 0.006953,
     "end_time": "2023-06-15T07:16:04.689958",
     "exception": false,
     "start_time": "2023-06-15T07:16:04.683005",
     "status": "completed"
    },
    "tags": []
   },
   "outputs": [],
   "source": []
  }
 ],
 "metadata": {
  "kernelspec": {
   "display_name": "Python 3",
   "language": "python",
   "name": "python3"
  },
  "language_info": {
   "codemirror_mode": {
    "name": "ipython",
    "version": 3
   },
   "file_extension": ".py",
   "mimetype": "text/x-python",
   "name": "python",
   "nbconvert_exporter": "python",
   "pygments_lexer": "ipython3",
   "version": "3.10.10"
  },
  "papermill": {
   "default_parameters": {},
   "duration": 16.560869,
   "end_time": "2023-06-15T07:16:05.720865",
   "environment_variables": {},
   "exception": null,
   "input_path": "__notebook__.ipynb",
   "output_path": "__notebook__.ipynb",
   "parameters": {},
   "start_time": "2023-06-15T07:15:49.159996",
   "version": "2.4.0"
  }
 },
 "nbformat": 4,
 "nbformat_minor": 5
}
